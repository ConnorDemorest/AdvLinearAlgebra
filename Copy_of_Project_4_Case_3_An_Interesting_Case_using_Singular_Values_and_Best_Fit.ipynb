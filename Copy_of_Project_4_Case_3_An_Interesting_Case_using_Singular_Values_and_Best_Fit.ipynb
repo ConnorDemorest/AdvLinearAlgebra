{
  "nbformat": 4,
  "nbformat_minor": 0,
  "metadata": {
    "colab": {
      "name": "Copy of Project 4:  Case 3 - An Interesting Case using Singular Values and Best Fit.ipynb",
      "provenance": [],
      "include_colab_link": true
    },
    "kernelspec": {
      "name": "python3",
      "display_name": "Python 3"
    }
  },
  "cells": [
    {
      "cell_type": "markdown",
      "metadata": {
        "id": "view-in-github",
        "colab_type": "text"
      },
      "source": [
        "<a href=\"https://colab.research.google.com/github/ConnorDemorest/AdvLinearAlgebra/blob/master/Copy_of_Project_4_Case_3_An_Interesting_Case_using_Singular_Values_and_Best_Fit.ipynb\" target=\"_parent\"><img src=\"https://colab.research.google.com/assets/colab-badge.svg\" alt=\"Open In Colab\"/></a>"
      ]
    },
    {
      "cell_type": "code",
      "metadata": {
        "id": "Hd7VYbrPdIg7",
        "colab_type": "code",
        "colab": {}
      },
      "source": [
        "#  Libraries that we'll need:\n",
        "import numpy as np\n",
        "import sympy as sym\n",
        "#from scipy import misc\n",
        "from scipy import linalg\n",
        "#from PIL import Image\n",
        "#import imageio\n",
        "import matplotlib.pyplot as plt\n",
        "# importing \"random\" for random operations \n",
        "import random "
      ],
      "execution_count": 0,
      "outputs": []
    },
    {
      "cell_type": "markdown",
      "metadata": {
        "id": "90XAt6FGd-y7",
        "colab_type": "text"
      },
      "source": [
        "#  Singular Value Decomposition and Best Fit\n",
        "\n",
        "We look at some data generated here from three sources:\n",
        "\n",
        "*   Case 0:  A known polynomial function $f(x) = 4 - 3x^2 + 5x^6$\n",
        "*   Case 1:  A known trigonometric function $f(x) = 4 - 2\\cos(x) + \\cos^2 (x)$\n",
        "*   Case 2:  A matrix of data $M$ (specified below) with unknown source function\n",
        "*   Case 3:  An interesting case."
      ]
    },
    {
      "cell_type": "markdown",
      "metadata": {
        "id": "zrZ6Bf0qeQ9n",
        "colab_type": "text"
      },
      "source": [
        "# Overview for Case 3:  An interesting case:\n",
        "\n",
        "For Case 3, you have the option of completing one of the following tasks:\n",
        "\n",
        "* **Option A:**  Re-do Case 0 or Case 1 by adding noise to the function.\n",
        "\n",
        "Using $f$ + (2*random.random()-1)  will add a random number between -1 and 1 to the value of $f$.  How much noise can your method absorb and still produce accurate results?  (e.g. noise with a range of $-1$ to $1$?  noise from a range of $-5$ to $5$?  noise from $-30$ to $30$?)  Which method (best-fit or SVD) accommodates a larger range of error?\n",
        "\n",
        "* **Option B:**  Best Fit for a plane\n",
        "\n",
        "Instead of matching a function $x \\to f(x)$ using a 8th degree polynomial, make a multivariable function $(x_1,x_2) \\to f(x_1,x_2)$ where $f$ is a 3rd degree polynomial in $x_1$ and $x_2$. Generate data based on at least 16 different input points. Modify the procedure for choosing the $M$ matrix, and use Best Fit to find the best fit line. \n",
        "\n",
        "\n",
        "BONUS for Option B:  Do this for 3 dimensions, with noise, or modify the SVD solution to fit this option\n",
        "\n",
        "* **Option C:**  The space of continuous functions of one variable has two different bases:\n",
        "\n",
        "\n",
        "Given an unknown function, we figured out how to write it using basis of polynomials.  We could also have determined how to write it as a basis of powers of sine and cosine functions. Fit the polynomial $f(x) = 4 - 3x^2 + 5x^6$ to a basis of sine & cosine functions of at most power 4. Plot the original function and the best-fit function.\n",
        "\n",
        "BONUS for Option C:  Include noise via $f(x)$ + (2*random.random()-1), and find a way to measure the error in your approximation to the function f(x).  What is the effect of this noise on your approximation?\n",
        "\n",
        "\n",
        "In each case, it may be helpful to re-use data from the previous cases by copy-and-paste into cells below.  Be sure to specify which option you are addressing."
      ]
    },
    {
      "cell_type": "markdown",
      "metadata": {
        "id": "MQZ8RE_hgNKw",
        "colab_type": "text"
      },
      "source": [
        "#3.1 Code for Option A: Adding noise to Case 0"
      ]
    },
    {
      "cell_type": "markdown",
      "metadata": {
        "id": "7XJD06idXyyE",
        "colab_type": "text"
      },
      "source": [
        "Best fit method: "
      ]
    },
    {
      "cell_type": "code",
      "metadata": {
        "id": "rKdTRosMW3q-",
        "colab_type": "code",
        "colab": {}
      },
      "source": [
        "actual_data_x = []\n",
        "actual_data_y = []\n",
        "\n",
        "noisy_data_y = []\n",
        "\n",
        "#We'll use (cough... cough...) three   data points:\n",
        "for i in range(20):\n",
        "    # pick a random number between -5 and 5\n",
        "    x = 6*random.random() - 3\n",
        "    f = 4 - 3*x**2 + 5*x**6\n",
        "    noise = f + (30*random.random() - 30)\n",
        "    actual_data_x.append(x)\n",
        "    actual_data_y.append(f)\n",
        "    noisy_data_y.append(noise)"
      ],
      "execution_count": 0,
      "outputs": []
    },
    {
      "cell_type": "code",
      "metadata": {
        "id": "jPtYDLiuBQAX",
        "colab_type": "code",
        "outputId": "90976211-ede6-42df-90bd-aa87accb6629",
        "colab": {
          "base_uri": "https://localhost:8080/",
          "height": 102
        }
      },
      "source": [
        "actual_data_x[:5]\n",
        "actual_data_y[:5]\n",
        "noisy_data_y[:5]"
      ],
      "execution_count": 55,
      "outputs": [
        {
          "output_type": "execute_result",
          "data": {
            "text/plain": [
              "[-4.928115409209326,\n",
              " 157.24605023475488,\n",
              " 3417.4401415228785,\n",
              " 7.000846684150893,\n",
              " 553.9404943574891]"
            ]
          },
          "metadata": {
            "tags": []
          },
          "execution_count": 55
        }
      ]
    },
    {
      "cell_type": "code",
      "metadata": {
        "id": "1MIXIbvYBVQO",
        "colab_type": "code",
        "colab": {}
      },
      "source": [
        "#Create the matrix M from the data in actual_data_x\n",
        "M_entries = []\n",
        "\n",
        "for x in actual_data_x:\n",
        "  M_entries.append([1, x, x**2, x**3, x**4, x**5, x**6])\n",
        "\n",
        "M = []\n",
        "M = np.matrix(M_entries)\n",
        "\n",
        "# Uses noisy data\n",
        "b = []\n",
        "b = (np.matrix(noisy_data_y)).transpose()"
      ],
      "execution_count": 0,
      "outputs": []
    },
    {
      "cell_type": "code",
      "metadata": {
        "id": "niZOyqGzBvek",
        "colab_type": "code",
        "outputId": "8ca9221f-0a3f-48dd-f0e5-f7631170606e",
        "colab": {
          "base_uri": "https://localhost:8080/",
          "height": 136
        }
      },
      "source": [
        "#  Find the solution to Mx = b using Best Fit:\n",
        "#  (We've already used 'x' as a variable, so we'll call the solution vector c.)\n",
        "c = linalg.inv(M.transpose() * M) * M.transpose() * b\n",
        "c"
      ],
      "execution_count": 57,
      "outputs": [
        {
          "output_type": "execute_result",
          "data": {
            "text/plain": [
              "matrix([[-7.66269407],\n",
              "        [-9.91516386],\n",
              "        [ 2.54953845],\n",
              "        [ 7.67487191],\n",
              "        [-3.17273686],\n",
              "        [-1.08534468],\n",
              "        [ 5.38470205]])"
            ]
          },
          "metadata": {
            "tags": []
          },
          "execution_count": 57
        }
      ]
    },
    {
      "cell_type": "code",
      "metadata": {
        "id": "GyahUw-XCKK3",
        "colab_type": "code",
        "outputId": "007aa641-8c9a-4f52-b64c-a4fb158c8eec",
        "colab": {
          "base_uri": "https://localhost:8080/",
          "height": 34
        }
      },
      "source": [
        "#  Let's see how close this actually gets us by comparing the original b vector to the result of Mc:\n",
        "error = ((b-M*c).transpose() * (b-M*c))[0,0]\n",
        "error**0.5"
      ],
      "execution_count": 58,
      "outputs": [
        {
          "output_type": "execute_result",
          "data": {
            "text/plain": [
              "28.534127172264515"
            ]
          },
          "metadata": {
            "tags": []
          },
          "execution_count": 58
        }
      ]
    },
    {
      "cell_type": "code",
      "metadata": {
        "id": "DlKVCK2uCMxv",
        "colab_type": "code",
        "outputId": "86d46d17-f896-43cf-f217-7f35ad0f3a81",
        "colab": {
          "base_uri": "https://localhost:8080/",
          "height": 295
        }
      },
      "source": [
        "#Show a plot of the solutions using the best-fit method, and the SVD method:\n",
        "\n",
        "# We'll specify that x is a variable:\n",
        "x = sym.symbols('x')\n",
        "\n",
        "xdata = []\n",
        "fdata = []\n",
        "#set up our 100 data points on the interval from (-3, 3):\n",
        "xdata = np.array(range(100))/(100/6) - 3\n",
        "# find the ouput for our function on each data point:\n",
        "fdata = 4 - 3*xdata**2 + 5*xdata**6\n",
        "\n",
        "best_fit = c[0,0] + c[1,0]*xdata + c[2,0]*(xdata**2) + c[3,0]*(xdata**3) + c[4,0]*(xdata**4) + c[5,0]*(xdata**5) + c[6,0]*(xdata**6)\n",
        "# Create the actual plot in red, and our datapoints in blue,\n",
        "# and the best-fit method in green:  \n",
        "plt.plot(xdata,fdata, color='red', linewidth=2 ) + plt.plot(actual_data_x, actual_data_y, 'bo', alpha=0.3)+plt.plot(xdata,best_fit, color='green')\n",
        "\n",
        "#Restrict the output values to this range:\n",
        "plt.ylim(-0,30)\n",
        "\n",
        "# Add a title\n",
        "plt.title('Our test data (blue) for the original function (red) and our best-fit solution (green)')\n",
        "\n",
        "# Add X and y Label\n",
        "plt.xlabel('x axis')\n",
        "plt.ylabel('output')\n",
        "\n",
        "# Add a grid\n",
        "plt.grid(alpha=.4,linestyle='--')"
      ],
      "execution_count": 59,
      "outputs": [
        {
          "output_type": "display_data",
          "data": {
            "image/png": "[encoded data removed]",
            "text/plain": [
              "<Figure size 432x288 with 1 Axes>"
            ]
          },
          "metadata": {
            "tags": [],
            "needs_background": "light"
          }
        }
      ]
    },
    {
      "cell_type": "markdown",
      "metadata": {
        "id": "SX86J-PnXq8p",
        "colab_type": "text"
      },
      "source": [
        "SVD method:"
      ]
    },
    {
      "cell_type": "code",
      "metadata": {
        "id": "-Jz1xVOuCRuk",
        "colab_type": "code",
        "colab": {}
      },
      "source": [
        "U, S, Vh = linalg.svd(M, full_matrices=True)\n",
        "\n",
        "Vh = Vh.T"
      ],
      "execution_count": 0,
      "outputs": []
    },
    {
      "cell_type": "code",
      "metadata": {
        "id": "cQ9YdBunDYM8",
        "colab_type": "code",
        "outputId": "13ad3811-bde2-40b2-f6a1-a208cb95949d",
        "colab": {
          "base_uri": "https://localhost:8080/",
          "height": 1000
        }
      },
      "source": [
        "U"
      ],
      "execution_count": 61,
      "outputs": [
        {
          "output_type": "execute_result",
          "data": {
            "text/plain": [
              "array([[-1.42783017e-03,  3.39630033e-03, -8.94192070e-02,\n",
              "         1.33790533e-01, -3.28244512e-01, -2.38170631e-01,\n",
              "        -9.60125912e-02, -3.22210789e-01, -2.38945571e-01,\n",
              "        -1.95633341e-01, -1.08501149e-01, -3.05689769e-01,\n",
              "        -2.39580408e-01, -1.91193211e-01, -4.07744373e-01,\n",
              "         2.37082242e-01, -1.02550194e-01, -6.32068674e-02,\n",
              "        -3.04088350e-01, -2.69440583e-01],\n",
              "       [-5.07305791e-02,  5.08566427e-02, -5.23951636e-01,\n",
              "        -5.89573143e-02, -2.34594970e-01, -3.62314758e-01,\n",
              "         2.73446850e-01, -8.17337178e-03,  8.92949511e-02,\n",
              "         1.18752902e-01, -1.51024474e-02,  1.61901731e-02,\n",
              "         1.55737062e-01,  1.21002707e-01, -2.35994403e-01,\n",
              "        -5.70646871e-01, -1.89178017e-02,  6.74112629e-02,\n",
              "         1.83970669e-02,  8.75123050e-02],\n",
              "       [-9.16565539e-01,  2.34574873e-01,  2.92411149e-01,\n",
              "         5.17078559e-02, -4.80498827e-02, -8.48215129e-02,\n",
              "         6.07637814e-03, -7.11199586e-03,  4.57749027e-03,\n",
              "         1.08864847e-02, -2.77526271e-03, -4.94551521e-03,\n",
              "         1.53255032e-02,  1.15193039e-02, -1.29509290e-02,\n",
              "        -7.73342434e-02, -1.74629242e-03,  1.98927974e-02,\n",
              "        -4.72940514e-03,  2.15165025e-03],\n",
              "       [-2.76382571e-03, -1.87209480e-02, -7.21118372e-02,\n",
              "         4.99787742e-01,  3.32789387e-01, -2.39794548e-01,\n",
              "        -1.11420240e-02,  1.13316083e-02,  2.15417591e-06,\n",
              "        -8.60837958e-03, -4.58255414e-01,  9.23063372e-03,\n",
              "         1.90725985e-01, -9.71013754e-03,  3.04477916e-02,\n",
              "         1.19920242e-01, -4.29132212e-01, -1.40537609e-01,\n",
              "         9.02909747e-03,  3.32006745e-01],\n",
              "       [-1.25696872e-01, -4.57322230e-01, -1.17140001e-01,\n",
              "         1.85133336e-01,  2.71281997e-01, -5.07237055e-02,\n",
              "        -5.70022733e-01, -3.75793511e-02, -2.43459170e-02,\n",
              "         4.14714753e-03,  5.36690079e-02, -3.91556321e-02,\n",
              "        -3.11484859e-01,  8.01573606e-03,  2.08720411e-02,\n",
              "        -3.65248080e-01,  1.09968853e-01,  2.73457787e-01,\n",
              "        -3.91947495e-02, -1.39550779e-02],\n",
              "       [-3.74672450e-06, -1.72615958e-05, -7.80604077e-03,\n",
              "         1.88701240e-01, -1.42508473e-01,  3.43125305e-01,\n",
              "         2.45649860e-02,  1.13277793e-01, -1.75386080e-02,\n",
              "        -1.04502190e-01, -1.74274261e-01,  9.11951251e-02,\n",
              "        -1.62390366e-01, -1.14201693e-01,  1.74902766e-01,\n",
              "        -4.34704602e-01, -2.36702857e-01, -5.01843602e-01,\n",
              "         8.89463633e-02, -4.33793922e-01],\n",
              "       [-2.89816107e-06, -3.04803493e-05, -6.79016111e-03,\n",
              "         1.92685588e-01, -1.25915591e-01,  3.65591950e-01,\n",
              "         9.21037547e-02, -1.69472994e-01, -2.78512045e-01,\n",
              "        -2.96940215e-01,  1.62301082e-01, -1.99131658e-01,\n",
              "         2.19674438e-01, -2.97233865e-01,  1.12028378e-01,\n",
              "        -2.47524302e-01,  1.81520016e-01, -8.75258926e-03,\n",
              "        -2.01776043e-01,  5.10106928e-01],\n",
              "       [-3.52953091e-04,  1.08164418e-03, -4.52202322e-02,\n",
              "         1.60030879e-01, -2.77821821e-01, -5.27171746e-02,\n",
              "        -1.61619221e-01,  8.90135033e-01, -8.22419861e-02,\n",
              "        -6.25285604e-02,  4.68887773e-02, -1.05471188e-01,\n",
              "         2.95620450e-02, -6.02786548e-02, -1.16609628e-01,\n",
              "         1.06564903e-01,  5.32660157e-02,  4.80616469e-02,\n",
              "        -1.05014681e-01,  6.54664576e-02],\n",
              "       [-5.06164682e-05,  1.97093355e-04, -1.99855938e-02,\n",
              "         1.76349248e-01, -2.17507527e-01,  1.47705909e-01,\n",
              "        -1.50498819e-01, -1.00248552e-01,  8.98993129e-01,\n",
              "        -9.50395411e-02,  2.84458471e-02, -1.01753554e-01,\n",
              "         4.77113963e-02, -9.41652571e-02, -6.96115752e-02,\n",
              "         6.96850307e-02,  2.91029220e-02, -1.75174663e-02,\n",
              "        -1.01860027e-01,  7.69193376e-02],\n",
              "       [-1.62722896e-05,  5.69510849e-05, -1.33779920e-02,\n",
              "         1.81316936e-01, -1.88155604e-01,  2.35611459e-01,\n",
              "        -1.06907662e-01, -8.66932824e-02, -9.97822232e-02,\n",
              "         8.98464605e-01,  6.14322921e-03, -9.03990505e-02,\n",
              "         4.39329028e-02, -1.01511415e-01, -4.72203881e-02,\n",
              "         4.85141593e-02,  2.52424815e-03, -5.92035223e-02,\n",
              "        -9.07253281e-02,  5.58524401e-02],\n",
              "       [-9.77974022e-04, -8.21894394e-03, -4.29058568e-02,\n",
              "         4.21578142e-01,  2.05366890e-01, -1.14880457e-01,\n",
              "         2.56955530e-01,  7.91673944e-03,  2.28482599e-02,\n",
              "         2.16961836e-02,  7.85346573e-01,  1.26198814e-02,\n",
              "        -9.24629201e-02,  2.11747179e-02, -4.07961840e-02,\n",
              "         6.97983432e-02, -2.10210443e-01, -8.61031034e-02,\n",
              "         1.30277293e-02, -1.16933698e-01],\n",
              "       [-2.44952899e-04,  7.96006495e-04, -3.82754524e-02,\n",
              "         1.64375909e-01, -2.65274491e-01, -9.37274235e-03,\n",
              "        -1.67091673e-01, -1.09738264e-01, -8.82743318e-02,\n",
              "        -7.11840046e-02,  4.56974689e-02,  8.93300512e-01,\n",
              "         3.60072313e-02, -6.91806852e-02, -1.06825621e-01,\n",
              "         1.00048312e-01,  5.12037837e-02,  3.64781051e-02,\n",
              "        -1.06370276e-01,  7.34150743e-02],\n",
              "       [-1.60621078e-01, -5.65551617e-01, -4.10153376e-02,\n",
              "        -2.74598612e-02, -1.68018763e-02,  1.59082480e-02,\n",
              "         2.18033978e-02, -2.43601188e-02, -3.35026499e-02,\n",
              "        -3.69956326e-02,  3.05469948e-02, -2.65211502e-02,\n",
              "         7.04469677e-01, -3.73131381e-02, -3.42180820e-03,\n",
              "         1.22049235e-01,  2.31590467e-02, -3.39367995e-02,\n",
              "        -2.67188810e-02, -3.62221887e-01],\n",
              "       [-1.44698985e-05,  4.83100484e-05, -1.28587759e-02,\n",
              "         1.81767430e-01, -1.85179656e-01,  2.43951777e-01,\n",
              "        -1.00828764e-01, -8.49477502e-02, -9.92014803e-02,\n",
              "        -1.01771364e-01,  3.28863730e-03, -8.88433864e-02,\n",
              "         4.30122399e-02,  8.98159646e-01, -4.50062107e-02,\n",
              "         4.63407730e-02, -8.22547896e-04, -6.38140107e-02,\n",
              "        -8.91891919e-02,  5.25829256e-02],\n",
              "       [-3.13018944e-03,  6.34530741e-03, -1.33750245e-01,\n",
              "         1.09375330e-01, -3.53009904e-01, -3.45134132e-01,\n",
              "        -2.34787874e-02, -8.32063910e-02, -1.41932681e-02,\n",
              "         1.84039698e-02,  2.11473578e-02, -6.87062526e-02,\n",
              "        -5.11693884e-02,  2.16291460e-02,  8.24012893e-01,\n",
              "         1.13763805e-01,  2.86569145e-02,  9.38436603e-02,\n",
              "        -6.73261159e-02, -6.32106005e-02],\n",
              "       [-2.88557550e-01,  1.50135079e-01, -7.64492759e-01,\n",
              "        -1.34858785e-01,  2.06791394e-01,  3.26468934e-01,\n",
              "        -7.83140947e-02,  2.41722122e-02, -2.95859160e-02,\n",
              "        -5.43598468e-02,  1.15236953e-02,  1.31396887e-02,\n",
              "        -7.36573186e-02, -5.67034875e-02,  7.64309454e-02,\n",
              "         3.33447846e-01,  9.48109770e-03, -7.03653052e-02,\n",
              "         1.20754836e-02, -2.24342734e-02],\n",
              "       [-6.99606554e-04, -6.33887212e-03, -3.63261995e-02,\n",
              "         3.99848591e-01,  1.72791221e-01, -7.49848464e-02,\n",
              "         3.13911337e-01,  1.96240839e-02,  3.16437641e-02,\n",
              "         2.62387711e-02, -2.28810044e-01,  2.43126111e-02,\n",
              "        -1.02741817e-01,  2.51666663e-02, -3.71905864e-02,\n",
              "         6.53114294e-02,  7.70491652e-01, -1.16725470e-01,\n",
              "         2.47031575e-02, -1.58083849e-01],\n",
              "       [-4.05236142e-06, -1.54748513e-04, -6.14615663e-03,\n",
              "         2.26289287e-01, -6.01698452e-02,  3.26898989e-01,\n",
              "         3.57033228e-01,  2.69505020e-02, -3.20007162e-04,\n",
              "        -2.88223938e-02, -1.91952901e-01,  2.43753274e-02,\n",
              "        -7.51582701e-02, -3.23678547e-02,  2.80990323e-03,\n",
              "         4.27070554e-03, -2.16666827e-01,  7.53819189e-01,\n",
              "         2.40476076e-02, -2.22065957e-01],\n",
              "       [-2.36363718e-04,  7.72343415e-04, -3.76683754e-02,\n",
              "         1.64759436e-01, -2.64076520e-01, -5.27807983e-03,\n",
              "        -1.67406820e-01, -1.09675176e-01, -8.87926671e-02,\n",
              "        -7.19592277e-02,  4.55146572e-02, -1.06762379e-01,\n",
              "         3.65491109e-02, -6.99805216e-02, -1.05891008e-01,\n",
              "         9.93868337e-02,  5.09292483e-02,  3.53177798e-02,\n",
              "         8.93554947e-01,  7.40231045e-02],\n",
              "       [-1.80134843e-01, -6.24774329e-01,  7.36866026e-03,\n",
              "        -1.50483710e-01, -1.91824423e-01,  4.43670490e-02,\n",
              "         3.95379460e-01,  5.00100634e-02,  4.78769228e-02,\n",
              "         2.97546326e-02, -6.08418471e-02,  5.30155824e-02,\n",
              "        -4.14062244e-01,  2.71719975e-02, -1.22420040e-02,\n",
              "         1.59274240e-01, -9.35546230e-02, -1.66275884e-01,\n",
              "         5.32115959e-02,  3.32102880e-01]])"
            ]
          },
          "metadata": {
            "tags": []
          },
          "execution_count": 61
        }
      ]
    },
    {
      "cell_type": "code",
      "metadata": {
        "id": "s6wESzMVDbEs",
        "colab_type": "code",
        "outputId": "c7a7b510-b817-4f88-ffc4-c2cdf6f05d20",
        "colab": {
          "base_uri": "https://localhost:8080/",
          "height": 51
        }
      },
      "source": [
        "S"
      ],
      "execution_count": 62,
      "outputs": [
        {
          "output_type": "execute_result",
          "data": {
            "text/plain": [
              "array([801.59569929, 183.60693267,  16.26138215,   3.96573007,\n",
              "         3.79782695,   1.12663694,   0.93169415])"
            ]
          },
          "metadata": {
            "tags": []
          },
          "execution_count": 62
        }
      ]
    },
    {
      "cell_type": "code",
      "metadata": {
        "id": "0CftZv9ODbgC",
        "colab_type": "code",
        "outputId": "cb210a7a-738b-4682-8dc6-cc4b04d44606",
        "colab": {
          "base_uri": "https://localhost:8080/",
          "height": 374
        }
      },
      "source": [
        "Vh"
      ],
      "execution_count": 63,
      "outputs": [
        {
          "output_type": "execute_result",
          "data": {
            "text/plain": [
              "array([[-2.16097992e-03, -6.71471856e-03, -1.05124032e-01,\n",
              "         7.73057610e-01, -4.50287554e-01,  4.18446277e-01,\n",
              "         1.15866062e-01],\n",
              "       [-3.06126530e-03,  2.71508137e-02, -1.10056789e-01,\n",
              "        -2.23629241e-01, -6.49076770e-01, -1.16308126e-01,\n",
              "        -7.08733162e-01],\n",
              "       [-1.55569315e-02, -3.02947889e-02, -3.04038283e-01,\n",
              "         3.74736936e-01, -5.72680550e-02, -8.64726909e-01,\n",
              "         1.22232981e-01],\n",
              "       [-2.86883972e-02,  1.56020754e-01, -3.09040084e-01,\n",
              "        -4.49553441e-01, -5.02663222e-01,  3.41580216e-02,\n",
              "         6.50686826e-01],\n",
              "       [-1.19283209e-01, -1.17264654e-01, -8.77742333e-01,\n",
              "        -4.11069379e-02,  3.19780910e-01,  2.49235557e-01,\n",
              "        -1.88469999e-01],\n",
              "       [-2.61777739e-01,  9.47775962e-01, -3.02586925e-02,\n",
              "         8.93750363e-02,  1.21695583e-01, -9.46128721e-04,\n",
              "        -9.73598728e-02],\n",
              "       [-9.57165006e-01, -2.48851807e-01,  1.32454514e-01,\n",
              "        -1.29672419e-02, -5.40451346e-02, -1.83433232e-02,\n",
              "         3.06305152e-02]])"
            ]
          },
          "metadata": {
            "tags": []
          },
          "execution_count": 63
        }
      ]
    },
    {
      "cell_type": "code",
      "metadata": {
        "id": "WYdB-4zjDcBK",
        "colab_type": "code",
        "outputId": "6a0f2134-3bce-4f66-8dfc-dc92a0af73b8",
        "colab": {
          "base_uri": "https://localhost:8080/",
          "height": 34
        }
      },
      "source": [
        "# We can compare the original matrix M to the matrix reconstructed (called a1) from the SVD:\n",
        "# If they are close, then allclose(M, a1) should be True.\n",
        "\n",
        "#First, recast S as a matrix instead of a vector:\n",
        "sigma = np.zeros((U.shape[1], Vh.shape[0]))\n",
        "for i in range(min(sigma.shape)):\n",
        "     sigma[i, i] = S[i]\n",
        "#Reconstruct the matrix:\n",
        "a1 = np.dot(U, np.dot(sigma, Vh.T))\n",
        "\n",
        "#does a1 approximate M?\n",
        "np.allclose(M, a1)"
      ],
      "execution_count": 65,
      "outputs": [
        {
          "output_type": "execute_result",
          "data": {
            "text/plain": [
              "True"
            ]
          },
          "metadata": {
            "tags": []
          },
          "execution_count": 65
        }
      ]
    },
    {
      "cell_type": "code",
      "metadata": {
        "id": "0k00G_iUDgEQ",
        "colab_type": "code",
        "colab": {}
      },
      "source": [
        "#  Based on the number of non-zero singular values in S, divide each of U, sigma, and Vh into \n",
        "#  U_use, Sigma_use, and Vh_use.\n",
        "#  and  discard U_d, Sigma_d, Vh_d\n",
        "useSigs = 7\n",
        "\n",
        "#Use these parts of U, S, and Vh\n",
        "(Vrows, Vcols) = Vh.shape\n",
        "(Urows, Ucols) = U.shape\n",
        "U_use = U[:Urows, :useSigs]\n",
        "Vh_use = Vh[:Vrows, :useSigs]\n",
        "sigma_use = sigma[:useSigs, :useSigs]\n",
        "\n",
        "#discard these parts of U, S, and Vh:\n",
        "U_d = U[:Urows, useSigs:]\n",
        "Vh_d = Vh[:Vrows, useSigs:]\n",
        "sigma_d = sigma[useSigs:, useSigs:]"
      ],
      "execution_count": 0,
      "outputs": []
    },
    {
      "cell_type": "code",
      "metadata": {
        "id": "Sj_K0a9wDo5k",
        "colab_type": "code",
        "outputId": "679c57a8-0e23-47b2-9521-7d9b9ca204ec",
        "colab": {
          "base_uri": "https://localhost:8080/",
          "height": 136
        }
      },
      "source": [
        "#  If we use Singular Value Decomposition to break down M as a product of matrices\n",
        "#  M = U sigma Vh.conjugate_transpose()\n",
        "#  Then the part of A which corresponds to non-zero singular values is:\n",
        "#  M_use = U_use sigma_use Vh_use.conjugate_transpose()\n",
        "#\n",
        "#  So, the equation Mx = b becomes:  (U_use sigma_use Vh_use.conjugate_transpose()) x = b\n",
        "#  or\n",
        "#  svd_sol = (U_use sigma_use Vh_use.conjugate_transpose()).inverse() b\n",
        "#  or\n",
        "#  svd_sol = Vh_use * Sigma_use.inverse() * U_use.transpose() * b\n",
        "#  (since Vh_use.conjugate_transpose() = Vh_use.inverse() and U_use.transpose() = U_use.inverse() )\n",
        "svdsol = (Vh_use @ linalg.inv(sigma_use) @ U_use.transpose()) @ b\n",
        "svdsol"
      ],
      "execution_count": 67,
      "outputs": [
        {
          "output_type": "execute_result",
          "data": {
            "text/plain": [
              "matrix([[-7.66269407],\n",
              "        [-9.91516386],\n",
              "        [ 2.54953845],\n",
              "        [ 7.67487191],\n",
              "        [-3.17273686],\n",
              "        [-1.08534468],\n",
              "        [ 5.38470205]])"
            ]
          },
          "metadata": {
            "tags": []
          },
          "execution_count": 67
        }
      ]
    },
    {
      "cell_type": "code",
      "metadata": {
        "id": "SnQLWv5dDtrK",
        "colab_type": "code",
        "outputId": "365aeb36-4293-4f0e-edcc-b86b3a2ece94",
        "colab": {
          "base_uri": "https://localhost:8080/",
          "height": 34
        }
      },
      "source": [
        "#  Let's see how close this actually gets us by comparing the original b vector to the result of Mc:\n",
        "error = ((b-M*svdsol).transpose() * (b-M*svdsol))[0,0]\n",
        "error**0.5"
      ],
      "execution_count": 68,
      "outputs": [
        {
          "output_type": "execute_result",
          "data": {
            "text/plain": [
              "28.53412717226455"
            ]
          },
          "metadata": {
            "tags": []
          },
          "execution_count": 68
        }
      ]
    },
    {
      "cell_type": "code",
      "metadata": {
        "id": "H-0o7kkkDxUE",
        "colab_type": "code",
        "outputId": "a95b0838-3c79-4df1-b6da-69f05852da85",
        "colab": {
          "base_uri": "https://localhost:8080/",
          "height": 295
        }
      },
      "source": [
        "#Show a plot of the solutions using the best-fit method, and the SVD method:\n",
        "\n",
        "# We'll specify that x is a variable:\n",
        "x = sym.symbols('x')\n",
        "\n",
        "xdata = []\n",
        "fdata = []\n",
        "#set up our 100 data points on the interval from (-3, 3):\n",
        "xdata = np.array(range(100))/(100/6) - 3\n",
        "# find the ouput for our function on each data point:\n",
        "fdata = 4 - 3*xdata**2 + 5*xdata**6\n",
        "\n",
        "#construct the solution from svdsol\n",
        "svd_fit = svdsol[0,0] + svdsol[1,0]*xdata + svdsol[2,0]*(xdata**2) + svdsol[3,0]*(xdata**3) + svdsol[4,0]*(xdata**4) + svdsol[5,0]*(xdata**5) + svdsol[6,0]*(xdata**6)\n",
        "# Create the actual plot in red, and our datapoints in blue,\n",
        "# and the svd solution in aqua:  \n",
        "plt.plot(xdata,fdata, color='red', linewidth=2 ) + plt.plot(actual_data_x, actual_data_y, 'bo', alpha=0.3) + plt.plot(xdata, svd_fit, 'aqua')\n",
        "\n",
        "#Restrict the output values to this range:\n",
        "plt.ylim(-0,5000)\n",
        "# Add a title\n",
        "plt.title('Our test data (blue) for the original function (red)  and svd solution (aqua)')\n",
        "\n",
        "# Add X and y Label\n",
        "plt.xlabel('x axis')\n",
        "plt.ylabel('output')\n",
        "\n",
        "# Add a grid\n",
        "plt.grid(alpha=.4,linestyle='--')"
      ],
      "execution_count": 69,
      "outputs": [
        {
          "output_type": "display_data",
          "data": {
            "image/png": "[encoded data removed]",
            "text/plain": [
              "<Figure size 432x288 with 1 Axes>"
            ]
          },
          "metadata": {
            "tags": [],
            "needs_background": "light"
          }
        }
      ]
    },
    {
      "cell_type": "markdown",
      "metadata": {
        "id": "1go1p2xuhnY0",
        "colab_type": "text"
      },
      "source": [
        "Findings \n",
        "\n",
        "I basically just copy/pasted your code and made it noisy, it seemed like the simplest of the things that you suggested. \n",
        "\n",
        "I found that for smaller amounts of noisiness, the two methods were very close in the amount of error, but at large amounts of noisiness (100x) the best fit performed better. \n",
        "\n",
        "It seems like the best fit method is the best for very noisy data, but the SVD method is better for less noisy data because it would take less space. "
      ]
    },
    {
      "cell_type": "code",
      "metadata": {
        "id": "k5Kj0J4XD5gr",
        "colab_type": "code",
        "colab": {}
      },
      "source": [
        ""
      ],
      "execution_count": 0,
      "outputs": []
    }
  ]
}